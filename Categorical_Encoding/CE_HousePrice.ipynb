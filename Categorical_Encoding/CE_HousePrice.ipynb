{
 "cells": [
  {
   "cell_type": "markdown",
   "id": "c57230f1",
   "metadata": {},
   "source": [
    "# Basic"
   ]
  },
  {
   "cell_type": "code",
   "execution_count": 1,
   "id": "3b82ef5d",
   "metadata": {},
   "outputs": [],
   "source": [
    "import pandas as pd\n",
    "import numpy as np\n",
    "import matplotlib.pyplot as plt\n",
    "\n",
    "# sklearn\n",
    "from sklearn.model_selection import train_test_split\n",
    "from sklearn.compose import ColumnTransformer\n",
    "from sklearn.impute import SimpleImputer\n",
    "from sklearn.pipeline import Pipeline\n",
    "from sklearn.preprocessing import OneHotEncoder, OrdinalEncoder\n",
    "\n",
    "# feature engine\n",
    "from feature_engine.encoding import CountFrequencyEncoder, OrdinalEncoder, RareLabelEncoder"
   ]
  },
  {
   "cell_type": "code",
   "execution_count": 2,
   "id": "a1ba0e59",
   "metadata": {},
   "outputs": [
    {
     "data": {
      "text/html": [
       "<div>\n",
       "<style scoped>\n",
       "    .dataframe tbody tr th:only-of-type {\n",
       "        vertical-align: middle;\n",
       "    }\n",
       "\n",
       "    .dataframe tbody tr th {\n",
       "        vertical-align: top;\n",
       "    }\n",
       "\n",
       "    .dataframe thead th {\n",
       "        text-align: right;\n",
       "    }\n",
       "</style>\n",
       "<table border=\"1\" class=\"dataframe\">\n",
       "  <thead>\n",
       "    <tr style=\"text-align: right;\">\n",
       "      <th></th>\n",
       "      <th>Id</th>\n",
       "      <th>MSSubClass</th>\n",
       "      <th>MSZoning</th>\n",
       "      <th>LotFrontage</th>\n",
       "      <th>LotArea</th>\n",
       "      <th>Street</th>\n",
       "      <th>Alley</th>\n",
       "      <th>LotShape</th>\n",
       "      <th>LandContour</th>\n",
       "      <th>Utilities</th>\n",
       "      <th>...</th>\n",
       "      <th>PoolArea</th>\n",
       "      <th>PoolQC</th>\n",
       "      <th>Fence</th>\n",
       "      <th>MiscFeature</th>\n",
       "      <th>MiscVal</th>\n",
       "      <th>MoSold</th>\n",
       "      <th>YrSold</th>\n",
       "      <th>SaleType</th>\n",
       "      <th>SaleCondition</th>\n",
       "      <th>SalePrice</th>\n",
       "    </tr>\n",
       "  </thead>\n",
       "  <tbody>\n",
       "    <tr>\n",
       "      <th>0</th>\n",
       "      <td>1</td>\n",
       "      <td>60</td>\n",
       "      <td>RL</td>\n",
       "      <td>65.0</td>\n",
       "      <td>8450</td>\n",
       "      <td>Pave</td>\n",
       "      <td>NaN</td>\n",
       "      <td>Reg</td>\n",
       "      <td>Lvl</td>\n",
       "      <td>AllPub</td>\n",
       "      <td>...</td>\n",
       "      <td>0</td>\n",
       "      <td>NaN</td>\n",
       "      <td>NaN</td>\n",
       "      <td>NaN</td>\n",
       "      <td>0</td>\n",
       "      <td>2</td>\n",
       "      <td>2008</td>\n",
       "      <td>WD</td>\n",
       "      <td>Normal</td>\n",
       "      <td>208500</td>\n",
       "    </tr>\n",
       "    <tr>\n",
       "      <th>1</th>\n",
       "      <td>2</td>\n",
       "      <td>20</td>\n",
       "      <td>RL</td>\n",
       "      <td>80.0</td>\n",
       "      <td>9600</td>\n",
       "      <td>Pave</td>\n",
       "      <td>NaN</td>\n",
       "      <td>Reg</td>\n",
       "      <td>Lvl</td>\n",
       "      <td>AllPub</td>\n",
       "      <td>...</td>\n",
       "      <td>0</td>\n",
       "      <td>NaN</td>\n",
       "      <td>NaN</td>\n",
       "      <td>NaN</td>\n",
       "      <td>0</td>\n",
       "      <td>5</td>\n",
       "      <td>2007</td>\n",
       "      <td>WD</td>\n",
       "      <td>Normal</td>\n",
       "      <td>181500</td>\n",
       "    </tr>\n",
       "    <tr>\n",
       "      <th>2</th>\n",
       "      <td>3</td>\n",
       "      <td>60</td>\n",
       "      <td>RL</td>\n",
       "      <td>68.0</td>\n",
       "      <td>11250</td>\n",
       "      <td>Pave</td>\n",
       "      <td>NaN</td>\n",
       "      <td>IR1</td>\n",
       "      <td>Lvl</td>\n",
       "      <td>AllPub</td>\n",
       "      <td>...</td>\n",
       "      <td>0</td>\n",
       "      <td>NaN</td>\n",
       "      <td>NaN</td>\n",
       "      <td>NaN</td>\n",
       "      <td>0</td>\n",
       "      <td>9</td>\n",
       "      <td>2008</td>\n",
       "      <td>WD</td>\n",
       "      <td>Normal</td>\n",
       "      <td>223500</td>\n",
       "    </tr>\n",
       "    <tr>\n",
       "      <th>3</th>\n",
       "      <td>4</td>\n",
       "      <td>70</td>\n",
       "      <td>RL</td>\n",
       "      <td>60.0</td>\n",
       "      <td>9550</td>\n",
       "      <td>Pave</td>\n",
       "      <td>NaN</td>\n",
       "      <td>IR1</td>\n",
       "      <td>Lvl</td>\n",
       "      <td>AllPub</td>\n",
       "      <td>...</td>\n",
       "      <td>0</td>\n",
       "      <td>NaN</td>\n",
       "      <td>NaN</td>\n",
       "      <td>NaN</td>\n",
       "      <td>0</td>\n",
       "      <td>2</td>\n",
       "      <td>2006</td>\n",
       "      <td>WD</td>\n",
       "      <td>Abnorml</td>\n",
       "      <td>140000</td>\n",
       "    </tr>\n",
       "    <tr>\n",
       "      <th>4</th>\n",
       "      <td>5</td>\n",
       "      <td>60</td>\n",
       "      <td>RL</td>\n",
       "      <td>84.0</td>\n",
       "      <td>14260</td>\n",
       "      <td>Pave</td>\n",
       "      <td>NaN</td>\n",
       "      <td>IR1</td>\n",
       "      <td>Lvl</td>\n",
       "      <td>AllPub</td>\n",
       "      <td>...</td>\n",
       "      <td>0</td>\n",
       "      <td>NaN</td>\n",
       "      <td>NaN</td>\n",
       "      <td>NaN</td>\n",
       "      <td>0</td>\n",
       "      <td>12</td>\n",
       "      <td>2008</td>\n",
       "      <td>WD</td>\n",
       "      <td>Normal</td>\n",
       "      <td>250000</td>\n",
       "    </tr>\n",
       "  </tbody>\n",
       "</table>\n",
       "<p>5 rows × 81 columns</p>\n",
       "</div>"
      ],
      "text/plain": [
       "   Id  MSSubClass MSZoning  LotFrontage  LotArea Street Alley LotShape  \\\n",
       "0   1          60       RL         65.0     8450   Pave   NaN      Reg   \n",
       "1   2          20       RL         80.0     9600   Pave   NaN      Reg   \n",
       "2   3          60       RL         68.0    11250   Pave   NaN      IR1   \n",
       "3   4          70       RL         60.0     9550   Pave   NaN      IR1   \n",
       "4   5          60       RL         84.0    14260   Pave   NaN      IR1   \n",
       "\n",
       "  LandContour Utilities  ... PoolArea PoolQC Fence MiscFeature MiscVal MoSold  \\\n",
       "0         Lvl    AllPub  ...        0    NaN   NaN         NaN       0      2   \n",
       "1         Lvl    AllPub  ...        0    NaN   NaN         NaN       0      5   \n",
       "2         Lvl    AllPub  ...        0    NaN   NaN         NaN       0      9   \n",
       "3         Lvl    AllPub  ...        0    NaN   NaN         NaN       0      2   \n",
       "4         Lvl    AllPub  ...        0    NaN   NaN         NaN       0     12   \n",
       "\n",
       "  YrSold  SaleType  SaleCondition  SalePrice  \n",
       "0   2008        WD         Normal     208500  \n",
       "1   2007        WD         Normal     181500  \n",
       "2   2008        WD         Normal     223500  \n",
       "3   2006        WD        Abnorml     140000  \n",
       "4   2008        WD         Normal     250000  \n",
       "\n",
       "[5 rows x 81 columns]"
      ]
     },
     "execution_count": 2,
     "metadata": {},
     "output_type": "execute_result"
    }
   ],
   "source": [
    "# load dataset\n",
    "\n",
    "data = pd.read_csv(\n",
    "    \"../../houseprice.csv\",\n",
    "#     usecols=[\"Neighborhood\", \"Exterior1st\", \"Exterior2nd\", \"SalePrice\"],\n",
    ")\n",
    "\n",
    "data.head()"
   ]
  },
  {
   "cell_type": "code",
   "execution_count": 3,
   "id": "598a82c3",
   "metadata": {},
   "outputs": [
    {
     "name": "stdout",
     "output_type": "stream",
     "text": [
      "Id :  1460  labels\n",
      "MSSubClass :  15  labels\n",
      "MSZoning :  5  labels\n",
      "LotFrontage :  111  labels\n",
      "LotArea :  1073  labels\n",
      "Street :  2  labels\n",
      "Alley :  3  labels\n",
      "LotShape :  4  labels\n",
      "LandContour :  4  labels\n",
      "Utilities :  2  labels\n",
      "LotConfig :  5  labels\n",
      "LandSlope :  3  labels\n",
      "Neighborhood :  25  labels\n",
      "Condition1 :  9  labels\n",
      "Condition2 :  8  labels\n",
      "BldgType :  5  labels\n",
      "HouseStyle :  8  labels\n",
      "OverallQual :  10  labels\n",
      "OverallCond :  9  labels\n",
      "YearBuilt :  112  labels\n",
      "YearRemodAdd :  61  labels\n",
      "RoofStyle :  6  labels\n",
      "RoofMatl :  8  labels\n",
      "Exterior1st :  15  labels\n",
      "Exterior2nd :  16  labels\n",
      "MasVnrType :  5  labels\n",
      "MasVnrArea :  328  labels\n",
      "ExterQual :  4  labels\n",
      "ExterCond :  5  labels\n",
      "Foundation :  6  labels\n",
      "BsmtQual :  5  labels\n",
      "BsmtCond :  5  labels\n",
      "BsmtExposure :  5  labels\n",
      "BsmtFinType1 :  7  labels\n",
      "BsmtFinSF1 :  637  labels\n",
      "BsmtFinType2 :  7  labels\n",
      "BsmtFinSF2 :  144  labels\n",
      "BsmtUnfSF :  780  labels\n",
      "TotalBsmtSF :  721  labels\n",
      "Heating :  6  labels\n",
      "HeatingQC :  5  labels\n",
      "CentralAir :  2  labels\n",
      "Electrical :  6  labels\n",
      "1stFlrSF :  753  labels\n",
      "2ndFlrSF :  417  labels\n",
      "LowQualFinSF :  24  labels\n",
      "GrLivArea :  861  labels\n",
      "BsmtFullBath :  4  labels\n",
      "BsmtHalfBath :  3  labels\n",
      "FullBath :  4  labels\n",
      "HalfBath :  3  labels\n",
      "BedroomAbvGr :  8  labels\n",
      "KitchenAbvGr :  4  labels\n",
      "KitchenQual :  4  labels\n",
      "TotRmsAbvGrd :  12  labels\n",
      "Functional :  7  labels\n",
      "Fireplaces :  4  labels\n",
      "FireplaceQu :  6  labels\n",
      "GarageType :  7  labels\n",
      "GarageYrBlt :  98  labels\n",
      "GarageFinish :  4  labels\n",
      "GarageCars :  5  labels\n",
      "GarageArea :  441  labels\n",
      "GarageQual :  6  labels\n",
      "GarageCond :  6  labels\n",
      "PavedDrive :  3  labels\n",
      "WoodDeckSF :  274  labels\n",
      "OpenPorchSF :  202  labels\n",
      "EnclosedPorch :  120  labels\n",
      "3SsnPorch :  20  labels\n",
      "ScreenPorch :  76  labels\n",
      "PoolArea :  8  labels\n",
      "PoolQC :  4  labels\n",
      "Fence :  5  labels\n",
      "MiscFeature :  5  labels\n",
      "MiscVal :  21  labels\n",
      "MoSold :  12  labels\n",
      "YrSold :  5  labels\n",
      "SaleType :  9  labels\n",
      "SaleCondition :  6  labels\n",
      "SalePrice :  663  labels\n"
     ]
    }
   ],
   "source": [
    "# let's have a look at how many labels each variable has\n",
    "\n",
    "for col in data.columns:\n",
    "    print(col, \": \", len(data[col].unique()), \" labels\")"
   ]
  },
  {
   "cell_type": "code",
   "execution_count": 4,
   "id": "816990c6",
   "metadata": {},
   "outputs": [
    {
     "data": {
      "text/plain": [
       "array(['CollgCr', 'Veenker', 'Crawfor', 'NoRidge', 'Mitchel', 'Somerst',\n",
       "       'NWAmes', 'OldTown', 'BrkSide', 'Sawyer', 'NridgHt', 'NAmes',\n",
       "       'SawyerW', 'IDOTRR', 'MeadowV', 'Edwards', 'Timber', 'Gilbert',\n",
       "       'StoneBr', 'ClearCr', 'NPkVill', 'Blmngtn', 'BrDale', 'SWISU',\n",
       "       'Blueste'], dtype=object)"
      ]
     },
     "execution_count": 4,
     "metadata": {},
     "output_type": "execute_result"
    }
   ],
   "source": [
    "data['Neighborhood'].unique()"
   ]
  },
  {
   "cell_type": "code",
   "execution_count": 5,
   "id": "6201079c",
   "metadata": {},
   "outputs": [
    {
     "data": {
      "text/plain": [
       "array(['VinylSd', 'MetalSd', 'Wd Sdng', 'HdBoard', 'BrkFace', 'WdShing',\n",
       "       'CemntBd', 'Plywood', 'AsbShng', 'Stucco', 'BrkComm', 'AsphShn',\n",
       "       'Stone', 'ImStucc', 'CBlock'], dtype=object)"
      ]
     },
     "execution_count": 5,
     "metadata": {},
     "output_type": "execute_result"
    }
   ],
   "source": [
    "data['Exterior1st'].unique()"
   ]
  },
  {
   "cell_type": "code",
   "execution_count": 6,
   "id": "ad14737d",
   "metadata": {},
   "outputs": [
    {
     "data": {
      "text/plain": [
       "array(['VinylSd', 'MetalSd', 'Wd Shng', 'HdBoard', 'Plywood', 'Wd Sdng',\n",
       "       'CmentBd', 'BrkFace', 'Stucco', 'AsbShng', 'Brk Cmn', 'ImStucc',\n",
       "       'AsphShn', 'Stone', 'Other', 'CBlock'], dtype=object)"
      ]
     },
     "execution_count": 6,
     "metadata": {},
     "output_type": "execute_result"
    }
   ],
   "source": [
    "data['Exterior2nd'].unique()"
   ]
  },
  {
   "cell_type": "code",
   "execution_count": 7,
   "id": "a95987b4",
   "metadata": {},
   "outputs": [
    {
     "name": "stdout",
     "output_type": "stream",
     "text": [
      "X_train shape: (1022, 80)\n",
      "X_test shape: (438, 80)\n",
      "y_train shape: (1022,)\n",
      "y_test shape: (438,)\n"
     ]
    }
   ],
   "source": [
    "target  = 'SalePrice'\n",
    "X = data.drop(labels=[target], axis=1)\n",
    "y = data[target]\n",
    "\n",
    "X_train, X_test, y_train, y_test = train_test_split(\n",
    "    X, y, \n",
    "    test_size=0.3, \n",
    "    random_state=0\n",
    ")\n",
    "\n",
    "print(\"X_train shape:\", X_train.shape)\n",
    "print(\"X_test shape:\", X_test.shape)\n",
    "print(\"y_train shape:\", y_train.shape)\n",
    "print(\"y_test shape:\", y_test.shape)"
   ]
  },
  {
   "cell_type": "code",
   "execution_count": 8,
   "id": "50316703",
   "metadata": {},
   "outputs": [
    {
     "data": {
      "text/plain": [
       "Id                 0\n",
       "MSSubClass         0\n",
       "MSZoning           0\n",
       "LotFrontage      189\n",
       "LotArea            0\n",
       "                ... \n",
       "MiscVal            0\n",
       "MoSold             0\n",
       "YrSold             0\n",
       "SaleType           0\n",
       "SaleCondition      0\n",
       "Length: 80, dtype: int64"
      ]
     },
     "execution_count": 8,
     "metadata": {},
     "output_type": "execute_result"
    }
   ],
   "source": [
    "X_train.isnull().sum()"
   ]
  },
  {
   "cell_type": "markdown",
   "id": "5d87ae0a",
   "metadata": {},
   "source": [
    "## Ordinal Encoding (sklearn)"
   ]
  },
  {
   "cell_type": "code",
   "execution_count": 9,
   "id": "693551c4",
   "metadata": {},
   "outputs": [],
   "source": [
    "# cat_vars = list(X_train.select_dtypes(include='O'))\n",
    "# cat_vars"
   ]
  },
  {
   "cell_type": "code",
   "execution_count": 10,
   "id": "4779d5f3",
   "metadata": {},
   "outputs": [],
   "source": [
    "# encoder = OrdinalEncoder()"
   ]
  },
  {
   "cell_type": "code",
   "execution_count": 11,
   "id": "4dd58dac",
   "metadata": {},
   "outputs": [],
   "source": [
    "# ct = ColumnTransformer(\n",
    "#     [\n",
    "#         ('ordinal_encoder', encoder, cat_vars)\n",
    "#     ], \n",
    "#     remainder='passthrough'\n",
    "# )\n",
    "\n",
    "# ct.set_output(transform='pandas')"
   ]
  },
  {
   "cell_type": "code",
   "execution_count": 12,
   "id": "4e89a2c6",
   "metadata": {},
   "outputs": [],
   "source": [
    "# ct.fit(X_train)"
   ]
  },
  {
   "cell_type": "code",
   "execution_count": 13,
   "id": "d302e2ea",
   "metadata": {},
   "outputs": [],
   "source": [
    "# ct.named_transformers_['ordinal_encoder'].categories_"
   ]
  },
  {
   "cell_type": "code",
   "execution_count": 14,
   "id": "0f09314d",
   "metadata": {},
   "outputs": [],
   "source": [
    "# # transform data\n",
    "# X_train_enc = ct.transform(X_train)\n",
    "# X_test_enc = ct.transform(X_test)\n",
    "\n",
    "# X_train_enc.head()"
   ]
  },
  {
   "cell_type": "markdown",
   "id": "c0ea61f6",
   "metadata": {},
   "source": [
    "## Count or Frequency Encoding (Feature Engine)"
   ]
  },
  {
   "cell_type": "code",
   "execution_count": 15,
   "id": "51e178a7",
   "metadata": {},
   "outputs": [],
   "source": [
    "# count_enc = CountFrequencyEncoder(\n",
    "#     encoding_method='count', # to do frequency ==> encoding_method='frequency'\n",
    "#     variables=[\"Neighborhood\", \"Exterior1st\", \"Exterior2nd\"],\n",
    "# )\n",
    "\n",
    "# count_enc.fit(X_train)"
   ]
  },
  {
   "cell_type": "code",
   "execution_count": 16,
   "id": "2802c98d",
   "metadata": {},
   "outputs": [],
   "source": [
    "# # in the encoder dict we can observe the number of \n",
    "# # observations per category for each variable\n",
    "\n",
    "# count_enc.encoder_dict_"
   ]
  },
  {
   "cell_type": "code",
   "execution_count": 17,
   "id": "78ba95ea",
   "metadata": {},
   "outputs": [],
   "source": [
    "# X_train = count_enc.transform(X_train)\n",
    "# X_test = count_enc.transform(X_test)\n",
    "\n",
    "# X_train.head()"
   ]
  },
  {
   "cell_type": "markdown",
   "id": "0c4f0287",
   "metadata": {},
   "source": [
    "# Monotonic"
   ]
  },
  {
   "cell_type": "markdown",
   "id": "c6d1e793",
   "metadata": {},
   "source": [
    "## Ordered Integer Encoding"
   ]
  },
  {
   "cell_type": "code",
   "execution_count": 18,
   "id": "0bf9ffc7",
   "metadata": {},
   "outputs": [],
   "source": [
    "# # Let's explore the relationship of the categories with the target\n",
    "\n",
    "# for var in [\"Neighborhood\", \"Exterior1st\", \"Exterior2nd\"]:\n",
    "    \n",
    "#     fig, axes = plt.subplots()\n",
    "#     axes = y_train.groupby(X_train[var]).mean().plot()\n",
    "#     axes.set_title(f'Relationship between {var} and SalePrice')\n",
    "#     axes.set_ylabel('Mean SalePrice')\n",
    "#     plt.tight_layout()\n",
    "#     plt.show()\n",
    "#     print()"
   ]
  },
  {
   "cell_type": "code",
   "execution_count": 19,
   "id": "4cd9eae1",
   "metadata": {},
   "outputs": [],
   "source": [
    "# ordinal_enc = OrdinalEncoder(\n",
    "#     encoding_method = 'ordered',\n",
    "#     variables = [\"Neighborhood\", \"Exterior1st\", \"Exterior2nd\"],\n",
    "# )"
   ]
  },
  {
   "cell_type": "code",
   "execution_count": 20,
   "id": "45a2d2bb",
   "metadata": {},
   "outputs": [],
   "source": [
    "# ordinal_enc.fit(X_train, y_train)"
   ]
  },
  {
   "cell_type": "code",
   "execution_count": 21,
   "id": "7ea142e9",
   "metadata": {},
   "outputs": [],
   "source": [
    "# # in the encoder dict we can observe each of the top categories\n",
    "# # selected for each of the variables\n",
    "\n",
    "# ordinal_enc.encoder_dict_"
   ]
  },
  {
   "cell_type": "code",
   "execution_count": 22,
   "id": "91ca75e3",
   "metadata": {},
   "outputs": [],
   "source": [
    "# # this is the list of variables that the encoder will transform\n",
    "\n",
    "# ordinal_enc.variables_"
   ]
  },
  {
   "cell_type": "code",
   "execution_count": 23,
   "id": "3d785669",
   "metadata": {},
   "outputs": [],
   "source": [
    "# X_train = ordinal_enc.transform(X_train)\n",
    "# X_test = ordinal_enc.transform(X_test)"
   ]
  },
  {
   "cell_type": "code",
   "execution_count": 24,
   "id": "51498b29",
   "metadata": {},
   "outputs": [],
   "source": [
    "# X_train.head()"
   ]
  },
  {
   "cell_type": "code",
   "execution_count": 25,
   "id": "0e46a8eb",
   "metadata": {},
   "outputs": [],
   "source": [
    "# # let's inspect the newly created monotonic relationship\n",
    "# # between the variables and the target\n",
    "\n",
    "# for var in [\"Neighborhood\", \"Exterior1st\", \"Exterior2nd\"]:\n",
    "\n",
    "#     fig, axes = plt.subplots()\n",
    "#     axes = y_train.groupby(X_train[var]).mean().plot()\n",
    "#     axes.set_title(\"Monotonic relationship between {} and SalePrice\".format(var))\n",
    "#     axes.set_ylabel(\"Mean SalePrice\")\n",
    "#     plt.tight_layout()\n",
    "#     plt.show()\n",
    "#     print()    "
   ]
  },
  {
   "cell_type": "code",
   "execution_count": 26,
   "id": "12df79d7",
   "metadata": {},
   "outputs": [],
   "source": [
    "# # let's inspect the newly created monotonic relationship\n",
    "# # between the variables and the target\n",
    "\n",
    "# for var in [\"Neighborhood\", \"Exterior1st\", \"Exterior2nd\"]:\n",
    "\n",
    "#     fig, axes = plt.subplots()\n",
    "#     axes = y_test.groupby(X_test[var]).mean().plot()\n",
    "#     axes.set_title(\"Monotonic relationship between {} and SalePrice\".format(var))\n",
    "#     axes.set_ylabel(\"Mean SalePrice\")\n",
    "#     plt.tight_layout()\n",
    "#     plt.show()\n",
    "#     print()    "
   ]
  },
  {
   "cell_type": "markdown",
   "id": "3bab7833",
   "metadata": {},
   "source": [
    "# Rare Labels"
   ]
  },
  {
   "cell_type": "code",
   "execution_count": 27,
   "id": "ff543402",
   "metadata": {},
   "outputs": [],
   "source": [
    "# # Let's visualize the most frequent neighbourhoods\n",
    "\n",
    "# X_train[\"Neighborhood\"].value_counts().sort_values(ascending=False).head(5)"
   ]
  },
  {
   "cell_type": "markdown",
   "id": "3e4c3e57",
   "metadata": {},
   "source": [
    "## OHE with Top Categories"
   ]
  },
  {
   "cell_type": "code",
   "execution_count": 28,
   "id": "fba0eeb8",
   "metadata": {},
   "outputs": [],
   "source": [
    "# ohe_enc = OneHotEncoder(\n",
    "#     handle_unknown='infrequent_if_exist', # unseen categories will be treated like the less frequent ones\n",
    "#     max_categories = 5, # the number of top categories\n",
    "#     sparse_output = False # necessary for set output pandas\n",
    "# )\n",
    "\n",
    "# ohe_enc.set_output(transform='pandas')"
   ]
  },
  {
   "cell_type": "code",
   "execution_count": 29,
   "id": "09b782ee",
   "metadata": {},
   "outputs": [],
   "source": [
    "# ohe_enc.fit(X_train)"
   ]
  },
  {
   "cell_type": "code",
   "execution_count": 30,
   "id": "1f039ecf",
   "metadata": {},
   "outputs": [],
   "source": [
    "# ohe_enc.infrequent_categories_"
   ]
  },
  {
   "cell_type": "code",
   "execution_count": 31,
   "id": "ec79e6af",
   "metadata": {},
   "outputs": [],
   "source": [
    "# # the categories found in each variable\n",
    "# ohe_enc.categories_"
   ]
  },
  {
   "cell_type": "code",
   "execution_count": 32,
   "id": "4838a07c",
   "metadata": {},
   "outputs": [],
   "source": [
    "# # encode\n",
    "# X_train = ohe_enc.transform(X_train)\n",
    "# X_test = ohe_enc.transform(X_test)"
   ]
  },
  {
   "cell_type": "code",
   "execution_count": 33,
   "id": "7705ef27",
   "metadata": {},
   "outputs": [],
   "source": [
    "# # let's explore the result\n",
    "# X_train.head()"
   ]
  },
  {
   "cell_type": "markdown",
   "id": "7326af98",
   "metadata": {},
   "source": [
    "## Encoding Rare Labels (feature-engine)"
   ]
  },
  {
   "cell_type": "code",
   "execution_count": 34,
   "id": "298b9223",
   "metadata": {},
   "outputs": [],
   "source": [
    "# Rare value encoder\n",
    "\n",
    "rare_encoder = RareLabelEncoder(\n",
    "    tol=0.05, # minimal percentage to be considered non-rare\n",
    "    n_categories=4, # minimal number of categories the variable should have to re-group rare categories\n",
    "    variables=[\n",
    "        \"Neighborhood\",\n",
    "        \"Exterior1st\",\n",
    "        \"Exterior2nd\",\n",
    "        \"MasVnrType\",\n",
    "        \"ExterQual\",\n",
    "        \"BsmtCond\",\n",
    "    ],  # variables to re-group\n",
    ")"
   ]
  },
  {
   "cell_type": "code",
   "execution_count": 35,
   "id": "03cd866a",
   "metadata": {},
   "outputs": [
    {
     "name": "stderr",
     "output_type": "stream",
     "text": [
      "C:\\Users\\vamsh\\miniconda3\\envs\\sklearn_latest\\lib\\site-packages\\feature_engine\\encoding\\rare_label.py:216: UserWarning: The number of unique categories for variable ExterQual is less than that indicated in n_categories. Thus, all categories will be considered frequent\n",
      "  warnings.warn(\n"
     ]
    },
    {
     "data": {
      "text/html": [
       "<style>#sk-container-id-1 {color: black;background-color: white;}#sk-container-id-1 pre{padding: 0;}#sk-container-id-1 div.sk-toggleable {background-color: white;}#sk-container-id-1 label.sk-toggleable__label {cursor: pointer;display: block;width: 100%;margin-bottom: 0;padding: 0.3em;box-sizing: border-box;text-align: center;}#sk-container-id-1 label.sk-toggleable__label-arrow:before {content: \"▸\";float: left;margin-right: 0.25em;color: #696969;}#sk-container-id-1 label.sk-toggleable__label-arrow:hover:before {color: black;}#sk-container-id-1 div.sk-estimator:hover label.sk-toggleable__label-arrow:before {color: black;}#sk-container-id-1 div.sk-toggleable__content {max-height: 0;max-width: 0;overflow: hidden;text-align: left;background-color: #f0f8ff;}#sk-container-id-1 div.sk-toggleable__content pre {margin: 0.2em;color: black;border-radius: 0.25em;background-color: #f0f8ff;}#sk-container-id-1 input.sk-toggleable__control:checked~div.sk-toggleable__content {max-height: 200px;max-width: 100%;overflow: auto;}#sk-container-id-1 input.sk-toggleable__control:checked~label.sk-toggleable__label-arrow:before {content: \"▾\";}#sk-container-id-1 div.sk-estimator input.sk-toggleable__control:checked~label.sk-toggleable__label {background-color: #d4ebff;}#sk-container-id-1 div.sk-label input.sk-toggleable__control:checked~label.sk-toggleable__label {background-color: #d4ebff;}#sk-container-id-1 input.sk-hidden--visually {border: 0;clip: rect(1px 1px 1px 1px);clip: rect(1px, 1px, 1px, 1px);height: 1px;margin: -1px;overflow: hidden;padding: 0;position: absolute;width: 1px;}#sk-container-id-1 div.sk-estimator {font-family: monospace;background-color: #f0f8ff;border: 1px dotted black;border-radius: 0.25em;box-sizing: border-box;margin-bottom: 0.5em;}#sk-container-id-1 div.sk-estimator:hover {background-color: #d4ebff;}#sk-container-id-1 div.sk-parallel-item::after {content: \"\";width: 100%;border-bottom: 1px solid gray;flex-grow: 1;}#sk-container-id-1 div.sk-label:hover label.sk-toggleable__label {background-color: #d4ebff;}#sk-container-id-1 div.sk-serial::before {content: \"\";position: absolute;border-left: 1px solid gray;box-sizing: border-box;top: 0;bottom: 0;left: 50%;z-index: 0;}#sk-container-id-1 div.sk-serial {display: flex;flex-direction: column;align-items: center;background-color: white;padding-right: 0.2em;padding-left: 0.2em;position: relative;}#sk-container-id-1 div.sk-item {position: relative;z-index: 1;}#sk-container-id-1 div.sk-parallel {display: flex;align-items: stretch;justify-content: center;background-color: white;position: relative;}#sk-container-id-1 div.sk-item::before, #sk-container-id-1 div.sk-parallel-item::before {content: \"\";position: absolute;border-left: 1px solid gray;box-sizing: border-box;top: 0;bottom: 0;left: 50%;z-index: -1;}#sk-container-id-1 div.sk-parallel-item {display: flex;flex-direction: column;z-index: 1;position: relative;background-color: white;}#sk-container-id-1 div.sk-parallel-item:first-child::after {align-self: flex-end;width: 50%;}#sk-container-id-1 div.sk-parallel-item:last-child::after {align-self: flex-start;width: 50%;}#sk-container-id-1 div.sk-parallel-item:only-child::after {width: 0;}#sk-container-id-1 div.sk-dashed-wrapped {border: 1px dashed gray;margin: 0 0.4em 0.5em 0.4em;box-sizing: border-box;padding-bottom: 0.4em;background-color: white;}#sk-container-id-1 div.sk-label label {font-family: monospace;font-weight: bold;display: inline-block;line-height: 1.2em;}#sk-container-id-1 div.sk-label-container {text-align: center;}#sk-container-id-1 div.sk-container {/* jupyter's `normalize.less` sets `[hidden] { display: none; }` but bootstrap.min.css set `[hidden] { display: none !important; }` so we also need the `!important` here to be able to override the default hidden behavior on the sphinx rendered scikit-learn.org. See: https://github.com/scikit-learn/scikit-learn/issues/21755 */display: inline-block !important;position: relative;}#sk-container-id-1 div.sk-text-repr-fallback {display: none;}</style><div id=\"sk-container-id-1\" class=\"sk-top-container\"><div class=\"sk-text-repr-fallback\"><pre>RareLabelEncoder(n_categories=4,\n",
       "                 variables=[&#x27;Neighborhood&#x27;, &#x27;Exterior1st&#x27;, &#x27;Exterior2nd&#x27;,\n",
       "                            &#x27;MasVnrType&#x27;, &#x27;ExterQual&#x27;, &#x27;BsmtCond&#x27;])</pre><b>In a Jupyter environment, please rerun this cell to show the HTML representation or trust the notebook. <br />On GitHub, the HTML representation is unable to render, please try loading this page with nbviewer.org.</b></div><div class=\"sk-container\" hidden><div class=\"sk-item\"><div class=\"sk-estimator sk-toggleable\"><input class=\"sk-toggleable__control sk-hidden--visually\" id=\"sk-estimator-id-1\" type=\"checkbox\" checked><label for=\"sk-estimator-id-1\" class=\"sk-toggleable__label sk-toggleable__label-arrow\">RareLabelEncoder</label><div class=\"sk-toggleable__content\"><pre>RareLabelEncoder(n_categories=4,\n",
       "                 variables=[&#x27;Neighborhood&#x27;, &#x27;Exterior1st&#x27;, &#x27;Exterior2nd&#x27;,\n",
       "                            &#x27;MasVnrType&#x27;, &#x27;ExterQual&#x27;, &#x27;BsmtCond&#x27;])</pre></div></div></div></div></div>"
      ],
      "text/plain": [
       "RareLabelEncoder(n_categories=4,\n",
       "                 variables=['Neighborhood', 'Exterior1st', 'Exterior2nd',\n",
       "                            'MasVnrType', 'ExterQual', 'BsmtCond'])"
      ]
     },
     "execution_count": 35,
     "metadata": {},
     "output_type": "execute_result"
    }
   ],
   "source": [
    "rare_encoder.fit(X_train.fillna('Missing'))"
   ]
  },
  {
   "cell_type": "code",
   "execution_count": 36,
   "id": "b0741589",
   "metadata": {},
   "outputs": [
    {
     "data": {
      "text/plain": [
       "['Neighborhood',\n",
       " 'Exterior1st',\n",
       " 'Exterior2nd',\n",
       " 'MasVnrType',\n",
       " 'ExterQual',\n",
       " 'BsmtCond']"
      ]
     },
     "execution_count": 36,
     "metadata": {},
     "output_type": "execute_result"
    }
   ],
   "source": [
    "rare_encoder.variables_"
   ]
  },
  {
   "cell_type": "code",
   "execution_count": 37,
   "id": "5172200d",
   "metadata": {},
   "outputs": [
    {
     "data": {
      "text/plain": [
       "{'Neighborhood': ['NAmes',\n",
       "  'CollgCr',\n",
       "  'OldTown',\n",
       "  'Edwards',\n",
       "  'Sawyer',\n",
       "  'Somerst',\n",
       "  'Gilbert'],\n",
       " 'Exterior1st': ['VinylSd', 'HdBoard', 'Wd Sdng', 'MetalSd', 'Plywood'],\n",
       " 'Exterior2nd': ['VinylSd', 'Wd Sdng', 'HdBoard', 'MetalSd', 'Plywood'],\n",
       " 'MasVnrType': ['None', 'BrkFace', 'Stone'],\n",
       " 'ExterQual': array(['TA', 'Gd', 'Ex', 'Fa'], dtype=object),\n",
       " 'BsmtCond': ['TA']}"
      ]
     },
     "execution_count": 37,
     "metadata": {},
     "output_type": "execute_result"
    }
   ],
   "source": [
    "# the encoder_dict_ is a dictionary of variable: frequent labels pair\n",
    "rare_encoder.encoder_dict_"
   ]
  },
  {
   "cell_type": "code",
   "execution_count": 38,
   "id": "87ad720d",
   "metadata": {},
   "outputs": [],
   "source": [
    "X_train = rare_encoder.transform(X_train.fillna(\"Missing\"))\n",
    "X_test = rare_encoder.transform(X_test.fillna(\"Missing\"))"
   ]
  },
  {
   "cell_type": "code",
   "execution_count": null,
   "id": "0db0fc7f",
   "metadata": {},
   "outputs": [],
   "source": []
  },
  {
   "cell_type": "code",
   "execution_count": null,
   "id": "201a7c32",
   "metadata": {},
   "outputs": [],
   "source": []
  },
  {
   "cell_type": "code",
   "execution_count": null,
   "id": "49b3f5b9",
   "metadata": {},
   "outputs": [],
   "source": []
  },
  {
   "cell_type": "code",
   "execution_count": null,
   "id": "12390b50",
   "metadata": {},
   "outputs": [],
   "source": []
  },
  {
   "cell_type": "code",
   "execution_count": null,
   "id": "ab587b7c",
   "metadata": {},
   "outputs": [],
   "source": []
  },
  {
   "cell_type": "code",
   "execution_count": null,
   "id": "8a14635e",
   "metadata": {},
   "outputs": [],
   "source": []
  },
  {
   "cell_type": "code",
   "execution_count": null,
   "id": "e900d0e9",
   "metadata": {},
   "outputs": [],
   "source": []
  }
 ],
 "metadata": {
  "kernelspec": {
   "display_name": "sklearn_latest",
   "language": "python",
   "name": "sklearn_latest"
  },
  "language_info": {
   "codemirror_mode": {
    "name": "ipython",
    "version": 3
   },
   "file_extension": ".py",
   "mimetype": "text/x-python",
   "name": "python",
   "nbconvert_exporter": "python",
   "pygments_lexer": "ipython3",
   "version": "3.9.16"
  }
 },
 "nbformat": 4,
 "nbformat_minor": 5
}
